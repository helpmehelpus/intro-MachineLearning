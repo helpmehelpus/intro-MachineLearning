{
 "cells": [
  {
   "cell_type": "code",
   "execution_count": 1,
   "metadata": {},
   "outputs": [
    {
     "name": "stderr",
     "output_type": "stream",
     "text": [
      "Using TensorFlow backend.\n"
     ]
    }
   ],
   "source": [
    "from PIL import Image\n",
    "import numpy as np # linear algebra\n",
    "import pandas as pd # data processing, CSV file I/O (e.g. pd.read_csv)\n",
    "from tqdm import tqdm\n",
    "import tensorflow as tf\n",
    "import keras\n",
    "import os\n",
    "from keras.preprocessing.image import ImageDataGenerator\n",
    "from keras.models import Sequential\n",
    "from keras.layers import Dense,Conv2D,Flatten,Dropout,MaxPooling2D,Activation, BatchNormalization, GlobalAveragePooling2D\n",
    "from sklearn.model_selection import train_test_split\n",
    "from keras.optimizers import *\n",
    "from keras.callbacks import CSVLogger, ModelCheckpoint, ReduceLROnPlateau\n",
    "from keras.regularizers import l2\n",
    "import matplotlib.pyplot as plt\n",
    "import cv2"
   ]
  },
  {
   "cell_type": "markdown",
   "metadata": {},
   "source": [
    "<h3>Data exploration"
   ]
  },
  {
   "cell_type": "code",
   "execution_count": 2,
   "metadata": {},
   "outputs": [
    {
     "data": {
      "text/html": [
       "<div>\n",
       "<style scoped>\n",
       "    .dataframe tbody tr th:only-of-type {\n",
       "        vertical-align: middle;\n",
       "    }\n",
       "\n",
       "    .dataframe tbody tr th {\n",
       "        vertical-align: top;\n",
       "    }\n",
       "\n",
       "    .dataframe thead th {\n",
       "        text-align: right;\n",
       "    }\n",
       "</style>\n",
       "<table border=\"1\" class=\"dataframe\">\n",
       "  <thead>\n",
       "    <tr style=\"text-align: right;\">\n",
       "      <th></th>\n",
       "      <th>id</th>\n",
       "      <th>has_cactus</th>\n",
       "    </tr>\n",
       "  </thead>\n",
       "  <tbody>\n",
       "    <tr>\n",
       "      <th>0</th>\n",
       "      <td>0004be2cfeaba1c0361d39e2b000257b.jpg</td>\n",
       "      <td>1</td>\n",
       "    </tr>\n",
       "    <tr>\n",
       "      <th>1</th>\n",
       "      <td>000c8a36845c0208e833c79c1bffedd1.jpg</td>\n",
       "      <td>1</td>\n",
       "    </tr>\n",
       "    <tr>\n",
       "      <th>2</th>\n",
       "      <td>000d1e9a533f62e55c289303b072733d.jpg</td>\n",
       "      <td>1</td>\n",
       "    </tr>\n",
       "    <tr>\n",
       "      <th>3</th>\n",
       "      <td>0011485b40695e9138e92d0b3fb55128.jpg</td>\n",
       "      <td>1</td>\n",
       "    </tr>\n",
       "    <tr>\n",
       "      <th>4</th>\n",
       "      <td>0014d7a11e90b62848904c1418fc8cf2.jpg</td>\n",
       "      <td>1</td>\n",
       "    </tr>\n",
       "  </tbody>\n",
       "</table>\n",
       "</div>"
      ],
      "text/plain": [
       "                                     id  has_cactus\n",
       "0  0004be2cfeaba1c0361d39e2b000257b.jpg           1\n",
       "1  000c8a36845c0208e833c79c1bffedd1.jpg           1\n",
       "2  000d1e9a533f62e55c289303b072733d.jpg           1\n",
       "3  0011485b40695e9138e92d0b3fb55128.jpg           1\n",
       "4  0014d7a11e90b62848904c1418fc8cf2.jpg           1"
      ]
     },
     "execution_count": 2,
     "metadata": {},
     "output_type": "execute_result"
    }
   ],
   "source": [
    "# reading first five rows of the dataset\n",
    "training_data = pd.read_csv('./data/train.csv')\n",
    "training_data.head()"
   ]
  },
  {
   "cell_type": "code",
   "execution_count": 3,
   "metadata": {},
   "outputs": [
    {
     "data": {
      "text/plain": [
       "17500"
      ]
     },
     "execution_count": 3,
     "metadata": {},
     "output_type": "execute_result"
    }
   ],
   "source": [
    "# counting total number of entries\n",
    "training_data.has_cactus.count()"
   ]
  },
  {
   "cell_type": "code",
   "execution_count": 4,
   "metadata": {
    "scrolled": true
   },
   "outputs": [
    {
     "data": {
      "text/plain": [
       "<matplotlib.axes._subplots.AxesSubplot at 0x7f8f74605a58>"
      ]
     },
     "execution_count": 4,
     "metadata": {},
     "output_type": "execute_result"
    },
    {
     "data": {
      "image/png": "[encoded data removed]",
      "text/plain": [
       "<Figure size 432x288 with 1 Axes>"
      ]
     },
     "metadata": {
      "needs_background": "light"
     },
     "output_type": "display_data"
    }
   ],
   "source": [
    "# plot training set according to has_cactus value\n",
    "training_data['has_cactus'].value_counts().plot(kind='bar')"
   ]
  },
  {
   "cell_type": "code",
   "execution_count": 5,
   "metadata": {},
   "outputs": [
    {
     "data": {
      "text/plain": [
       "1    13136\n",
       "0     4364\n",
       "Name: has_cactus, dtype: int64"
      ]
     },
     "execution_count": 5,
     "metadata": {},
     "output_type": "execute_result"
    }
   ],
   "source": [
    "# get exact count of has_cactus in training set\n",
    "training_data['has_cactus'].value_counts()"
   ]
  },
  {
   "cell_type": "markdown",
   "metadata": {},
   "source": [
    "<h3>Image Loading Routine"
   ]
  },
  {
   "cell_type": "code",
   "execution_count": 6,
   "metadata": {},
   "outputs": [
    {
     "name": "stdout",
     "output_type": "stream",
     "text": [
      "X_train shape:  (17500, 32, 32, 3)\n",
      "Y_train shape:  (17500,)\n"
     ]
    }
   ],
   "source": [
    "def load_images(path):\n",
    "    images = {}\n",
    "    for file in os.listdir(path):\n",
    "        filename = os.path.join(path, file)\n",
    "        images[file] = cv2.imread(filename)\n",
    "    return images\n",
    "\n",
    "training_images = load_images('./data/train')\n",
    "testing_images = load_images('./data/test')\n",
    "\n",
    "def create_train_set():\n",
    "    X_train = []\n",
    "    Y_train = []\n",
    "\n",
    "    for _, row in training_data.iterrows():\n",
    "        X_train.append(training_images[row['id']])\n",
    "        Y_train.append(int(row['has_cactus']))\n",
    "\n",
    "    X_train = np.array(X_train)\n",
    "    Y_train = np.array(Y_train)\n",
    "    return X_train, Y_train\n",
    "\n",
    "def create_test_set():\n",
    "    X_test = np.array([testing_images[f] for f in testing_images])\n",
    "    return X_test\n",
    "\n",
    "X_train, Y_train = create_train_set()\n",
    "X_test = create_test_set()\n",
    "\n",
    "print('X_train shape: ', X_train.shape)\n",
    "print('Y_train shape: ', Y_train.shape)"
   ]
  },
  {
   "cell_type": "markdown",
   "metadata": {},
   "source": [
    "<h3> Model creation functions\n",
    "   "
   ]
  },
  {
   "cell_type": "code",
   "execution_count": 7,
   "metadata": {},
   "outputs": [],
   "source": [
    "# function that takes as input a model and adds a convolutional layer to it\n",
    "def add_layer(model, **args):\n",
    "    model.add(Conv2D(64, kernel_size=(3, 3), padding='same', **args))\n",
    "    model.add(BatchNormalization())\n",
    "    model.add(Activation('relu'))\n",
    "    model.add(MaxPooling2D())"
   ]
  },
  {
   "cell_type": "code",
   "execution_count": 8,
   "metadata": {},
   "outputs": [],
   "source": [
    "# function that takes as input a number of levels of convolutional layers, and creates a model\n",
    "def build_model(num_layers = 1):\n",
    "    model = Sequential()\n",
    "    \n",
    "    for i in range(num_layers):\n",
    "        if i:\n",
    "            add_layer(model)\n",
    "        else:\n",
    "            add_layer(model, input_shape=(32,32,3))\n",
    "    \n",
    "    model.add(Flatten())\n",
    "    \n",
    "    model.add(Dropout(0.4))\n",
    "    model.add(Dense(64, activation='relu'))\n",
    "    model.add(Dense(1, activation='sigmoid'))\n",
    "    \n",
    "    return model"
   ]
  },
  {
   "cell_type": "markdown",
   "metadata": {},
   "source": [
    "<h3> Benchmark model"
   ]
  },
  {
   "cell_type": "code",
   "execution_count": 9,
   "metadata": {},
   "outputs": [
    {
     "name": "stdout",
     "output_type": "stream",
     "text": [
      "WARNING:tensorflow:From /home/adriano/anaconda3/envs/capstone/lib/python3.6/site-packages/tensorflow/python/framework/op_def_library.py:263: colocate_with (from tensorflow.python.framework.ops) is deprecated and will be removed in a future version.\n",
      "Instructions for updating:\n",
      "Colocations handled automatically by placer.\n",
      "WARNING:tensorflow:From /home/adriano/anaconda3/envs/capstone/lib/python3.6/site-packages/keras/backend/tensorflow_backend.py:3445: calling dropout (from tensorflow.python.ops.nn_ops) with keep_prob is deprecated and will be removed in a future version.\n",
      "Instructions for updating:\n",
      "Please use `rate` instead of `keep_prob`. Rate should be set to `rate = 1 - keep_prob`.\n",
      "_________________________________________________________________\n",
      "Layer (type)                 Output Shape              Param #   \n",
      "=================================================================\n",
      "conv2d_1 (Conv2D)            (None, 32, 32, 64)        1792      \n",
      "_________________________________________________________________\n",
      "batch_normalization_1 (Batch (None, 32, 32, 64)        256       \n",
      "_________________________________________________________________\n",
      "activation_1 (Activation)    (None, 32, 32, 64)        0         \n",
      "_________________________________________________________________\n",
      "max_pooling2d_1 (MaxPooling2 (None, 16, 16, 64)        0         \n",
      "_________________________________________________________________\n",
      "flatten_1 (Flatten)          (None, 16384)             0         \n",
      "_________________________________________________________________\n",
      "dropout_1 (Dropout)          (None, 16384)             0         \n",
      "_________________________________________________________________\n",
      "dense_1 (Dense)              (None, 64)                1048640   \n",
      "_________________________________________________________________\n",
      "dense_2 (Dense)              (None, 1)                 65        \n",
      "=================================================================\n",
      "Total params: 1,050,753\n",
      "Trainable params: 1,050,625\n",
      "Non-trainable params: 128\n",
      "_________________________________________________________________\n"
     ]
    }
   ],
   "source": [
    "# create model and check its summary\n",
    "benchmark_model = build_model()\n",
    "benchmark_model.summary()"
   ]
  },
  {
   "cell_type": "code",
   "execution_count": 10,
   "metadata": {},
   "outputs": [],
   "source": [
    "# compile the model (using crossentropy as loss function)\n",
    "benchmark_model.compile(optimizer=RMSprop(lr=1e-4),\n",
    "              loss='binary_crossentropy',\n",
    "              metrics=['accuracy'])"
   ]
  },
  {
   "cell_type": "code",
   "execution_count": 11,
   "metadata": {},
   "outputs": [],
   "source": [
    "random_indexes = np.random.permutation(17500)\n",
    "\n",
    "x_train = X_train[random_indexes[:7500]]\n",
    "y_train = Y_train[random_indexes[:7500]]\n",
    "\n",
    "x_valid = X_train[random_indexes[7500:]]\n",
    "y_valid = Y_train[random_indexes[7500:]]"
   ]
  },
  {
   "cell_type": "code",
   "execution_count": 12,
   "metadata": {},
   "outputs": [
    {
     "name": "stdout",
     "output_type": "stream",
     "text": [
      "WARNING:tensorflow:From /home/adriano/anaconda3/envs/capstone/lib/python3.6/site-packages/tensorflow/python/ops/math_ops.py:3066: to_int32 (from tensorflow.python.ops.math_ops) is deprecated and will be removed in a future version.\n",
      "Instructions for updating:\n",
      "Use tf.cast instead.\n",
      "Train on 7500 samples, validate on 10000 samples\n",
      "Epoch 1/1\n",
      "7500/7500 [==============================] - 16s 2ms/step - loss: 0.2098 - acc: 0.9307 - val_loss: 0.2515 - val_acc: 0.9155\n"
     ]
    },
    {
     "data": {
      "text/plain": [
       "<keras.callbacks.History at 0x7f8f586f7cc0>"
      ]
     },
     "execution_count": 12,
     "metadata": {},
     "output_type": "execute_result"
    }
   ],
   "source": [
    "benchmark_model.fit(x_train, y_train, epochs = 1, batch_size = 8, validation_data = (x_valid, y_valid))"
   ]
  },
  {
   "cell_type": "code",
   "execution_count": 13,
   "metadata": {},
   "outputs": [],
   "source": [
    "benchmark_model.save('benchmark_model.h5')"
   ]
  },
  {
   "cell_type": "markdown",
   "metadata": {},
   "source": [
    "<h3>Intermediate model 1: 1 extra layer, epochs = 4, batch_size = 16</h3><br>\n",
    "From this step ownards, the validation data will contain 11500 entries\n",
    "    "
   ]
  },
  {
   "cell_type": "code",
   "execution_count": 14,
   "metadata": {},
   "outputs": [],
   "source": [
    "random_indexes = np.random.permutation(17500)\n",
    "\n",
    "x_train = X_train[random_indexes[:11500]]\n",
    "y_train = Y_train[random_indexes[:11500]]\n",
    "\n",
    "x_valid = X_train[random_indexes[11500:]]\n",
    "y_valid = Y_train[random_indexes[11500:]]"
   ]
  },
  {
   "cell_type": "code",
   "execution_count": 15,
   "metadata": {},
   "outputs": [
    {
     "name": "stdout",
     "output_type": "stream",
     "text": [
      "_________________________________________________________________\n",
      "Layer (type)                 Output Shape              Param #   \n",
      "=================================================================\n",
      "conv2d_2 (Conv2D)            (None, 32, 32, 64)        1792      \n",
      "_________________________________________________________________\n",
      "batch_normalization_2 (Batch (None, 32, 32, 64)        256       \n",
      "_________________________________________________________________\n",
      "activation_2 (Activation)    (None, 32, 32, 64)        0         \n",
      "_________________________________________________________________\n",
      "max_pooling2d_2 (MaxPooling2 (None, 16, 16, 64)        0         \n",
      "_________________________________________________________________\n",
      "conv2d_3 (Conv2D)            (None, 16, 16, 64)        36928     \n",
      "_________________________________________________________________\n",
      "batch_normalization_3 (Batch (None, 16, 16, 64)        256       \n",
      "_________________________________________________________________\n",
      "activation_3 (Activation)    (None, 16, 16, 64)        0         \n",
      "_________________________________________________________________\n",
      "max_pooling2d_3 (MaxPooling2 (None, 8, 8, 64)          0         \n",
      "_________________________________________________________________\n",
      "flatten_2 (Flatten)          (None, 4096)              0         \n",
      "_________________________________________________________________\n",
      "dropout_2 (Dropout)          (None, 4096)              0         \n",
      "_________________________________________________________________\n",
      "dense_3 (Dense)              (None, 64)                262208    \n",
      "_________________________________________________________________\n",
      "dense_4 (Dense)              (None, 1)                 65        \n",
      "=================================================================\n",
      "Total params: 301,505\n",
      "Trainable params: 301,249\n",
      "Non-trainable params: 256\n",
      "_________________________________________________________________\n"
     ]
    }
   ],
   "source": [
    "intermediate_model_1 = build_model(num_layers = 2)\n",
    "intermediate_model_1.summary()"
   ]
  },
  {
   "cell_type": "code",
   "execution_count": 16,
   "metadata": {},
   "outputs": [],
   "source": [
    "intermediate_model_1.compile(optimizer=RMSprop(lr=1e-4),\n",
    "              loss='binary_crossentropy',\n",
    "              metrics=['accuracy'])"
   ]
  },
  {
   "cell_type": "code",
   "execution_count": 17,
   "metadata": {},
   "outputs": [
    {
     "name": "stdout",
     "output_type": "stream",
     "text": [
      "Train on 11500 samples, validate on 6000 samples\n",
      "Epoch 1/4\n",
      "11500/11500 [==============================] - 22s 2ms/step - loss: 0.1662 - acc: 0.9397 - val_loss: 0.0893 - val_acc: 0.9665\n",
      "Epoch 2/4\n",
      "11500/11500 [==============================] - 22s 2ms/step - loss: 0.1013 - acc: 0.9640 - val_loss: 0.0607 - val_acc: 0.9770\n",
      "Epoch 3/4\n",
      "11500/11500 [==============================] - 22s 2ms/step - loss: 0.0770 - acc: 0.9727 - val_loss: 0.1694 - val_acc: 0.9487\n",
      "Epoch 4/4\n",
      "11500/11500 [==============================] - 22s 2ms/step - loss: 0.0678 - acc: 0.9764 - val_loss: 0.0694 - val_acc: 0.9757\n"
     ]
    },
    {
     "data": {
      "text/plain": [
       "<keras.callbacks.History at 0x7f8f5071d588>"
      ]
     },
     "execution_count": 17,
     "metadata": {},
     "output_type": "execute_result"
    }
   ],
   "source": [
    "intermediate_model_1.fit(x_train, y_train, epochs = 4, batch_size = 16, validation_data = (x_valid, y_valid))"
   ]
  },
  {
   "cell_type": "code",
   "execution_count": 78,
   "metadata": {},
   "outputs": [],
   "source": [
    "intermediate_model_1.save('intermediate_model_1.h5')"
   ]
  },
  {
   "cell_type": "markdown",
   "metadata": {},
   "source": [
    "<h3>Intermediate model 2: 2 extra layers, epochs = 16, batch_size = 32</h3><br>"
   ]
  },
  {
   "cell_type": "code",
   "execution_count": 79,
   "metadata": {},
   "outputs": [
    {
     "name": "stdout",
     "output_type": "stream",
     "text": [
      "_________________________________________________________________\n",
      "Layer (type)                 Output Shape              Param #   \n",
      "=================================================================\n",
      "conv2d_28 (Conv2D)           (None, 32, 32, 64)        1792      \n",
      "_________________________________________________________________\n",
      "batch_normalization_28 (Batc (None, 32, 32, 64)        256       \n",
      "_________________________________________________________________\n",
      "activation_28 (Activation)   (None, 32, 32, 64)        0         \n",
      "_________________________________________________________________\n",
      "max_pooling2d_28 (MaxPooling (None, 16, 16, 64)        0         \n",
      "_________________________________________________________________\n",
      "conv2d_29 (Conv2D)           (None, 16, 16, 64)        36928     \n",
      "_________________________________________________________________\n",
      "batch_normalization_29 (Batc (None, 16, 16, 64)        256       \n",
      "_________________________________________________________________\n",
      "activation_29 (Activation)   (None, 16, 16, 64)        0         \n",
      "_________________________________________________________________\n",
      "max_pooling2d_29 (MaxPooling (None, 8, 8, 64)          0         \n",
      "_________________________________________________________________\n",
      "conv2d_30 (Conv2D)           (None, 8, 8, 64)          36928     \n",
      "_________________________________________________________________\n",
      "batch_normalization_30 (Batc (None, 8, 8, 64)          256       \n",
      "_________________________________________________________________\n",
      "activation_30 (Activation)   (None, 8, 8, 64)          0         \n",
      "_________________________________________________________________\n",
      "max_pooling2d_30 (MaxPooling (None, 4, 4, 64)          0         \n",
      "_________________________________________________________________\n",
      "flatten_17 (Flatten)         (None, 1024)              0         \n",
      "_________________________________________________________________\n",
      "dropout_17 (Dropout)         (None, 1024)              0         \n",
      "_________________________________________________________________\n",
      "dense_33 (Dense)             (None, 64)                65600     \n",
      "_________________________________________________________________\n",
      "dense_34 (Dense)             (None, 1)                 65        \n",
      "=================================================================\n",
      "Total params: 142,081\n",
      "Trainable params: 141,697\n",
      "Non-trainable params: 384\n",
      "_________________________________________________________________\n"
     ]
    }
   ],
   "source": [
    "intermediate_model_2 = build_model(num_layers = 3)\n",
    "intermediate_model_2.summary()"
   ]
  },
  {
   "cell_type": "code",
   "execution_count": 80,
   "metadata": {},
   "outputs": [],
   "source": [
    "intermediate_model_2.compile(optimizer=RMSprop(lr=1e-4),\n",
    "              loss='binary_crossentropy',\n",
    "              metrics=['accuracy'])"
   ]
  },
  {
   "cell_type": "code",
   "execution_count": 81,
   "metadata": {},
   "outputs": [
    {
     "name": "stdout",
     "output_type": "stream",
     "text": [
      "Train on 11500 samples, validate on 6000 samples\n",
      "Epoch 1/16\n",
      "11500/11500 [==============================] - 24s 2ms/step - loss: 0.1666 - acc: 0.9343 - val_loss: 0.1071 - val_acc: 0.9570\n",
      "Epoch 2/16\n",
      "11500/11500 [==============================] - 23s 2ms/step - loss: 0.0847 - acc: 0.9681 - val_loss: 0.0787 - val_acc: 0.9707\n",
      "Epoch 3/16\n",
      "11500/11500 [==============================] - 23s 2ms/step - loss: 0.0708 - acc: 0.9709 - val_loss: 0.0481 - val_acc: 0.9827\n",
      "Epoch 4/16\n",
      "11500/11500 [==============================] - 22s 2ms/step - loss: 0.0594 - acc: 0.9783 - val_loss: 0.1365 - val_acc: 0.9520\n",
      "Epoch 5/16\n",
      "11500/11500 [==============================] - 22s 2ms/step - loss: 0.0471 - acc: 0.9826 - val_loss: 0.0611 - val_acc: 0.9795\n",
      "Epoch 6/16\n",
      "11500/11500 [==============================] - 22s 2ms/step - loss: 0.0392 - acc: 0.9854 - val_loss: 0.0413 - val_acc: 0.9848\n",
      "Epoch 7/16\n",
      "11500/11500 [==============================] - 22s 2ms/step - loss: 0.0377 - acc: 0.9857 - val_loss: 0.0283 - val_acc: 0.9900\n",
      "Epoch 8/16\n",
      "11500/11500 [==============================] - 22s 2ms/step - loss: 0.0294 - acc: 0.9887 - val_loss: 0.0420 - val_acc: 0.9862\n",
      "Epoch 9/16\n",
      "11500/11500 [==============================] - 23s 2ms/step - loss: 0.0214 - acc: 0.9922 - val_loss: 0.0273 - val_acc: 0.9905\n",
      "Epoch 10/16\n",
      "11500/11500 [==============================] - 22s 2ms/step - loss: 0.0229 - acc: 0.9908 - val_loss: 0.0283 - val_acc: 0.9905\n",
      "Epoch 11/16\n",
      "11500/11500 [==============================] - 22s 2ms/step - loss: 0.0218 - acc: 0.9927 - val_loss: 0.0240 - val_acc: 0.9915\n",
      "Epoch 12/16\n",
      "11500/11500 [==============================] - 23s 2ms/step - loss: 0.0171 - acc: 0.9942 - val_loss: 0.0247 - val_acc: 0.9920\n",
      "Epoch 13/16\n",
      "11500/11500 [==============================] - 22s 2ms/step - loss: 0.0155 - acc: 0.9950 - val_loss: 0.0288 - val_acc: 0.9912\n",
      "Epoch 14/16\n",
      "11500/11500 [==============================] - 23s 2ms/step - loss: 0.0148 - acc: 0.9949 - val_loss: 0.0288 - val_acc: 0.9910\n",
      "Epoch 15/16\n",
      "11500/11500 [==============================] - 23s 2ms/step - loss: 0.0127 - acc: 0.9950 - val_loss: 0.0331 - val_acc: 0.9895\n",
      "Epoch 16/16\n",
      "11500/11500 [==============================] - 23s 2ms/step - loss: 0.0129 - acc: 0.9961 - val_loss: 0.0681 - val_acc: 0.9783\n"
     ]
    },
    {
     "data": {
      "text/plain": [
       "<keras.callbacks.History at 0x7f7eb525ea20>"
      ]
     },
     "execution_count": 81,
     "metadata": {},
     "output_type": "execute_result"
    }
   ],
   "source": [
    "intermediate_model_2.fit(x_train, y_train, epochs = 16, batch_size = 32, validation_data = (x_valid, y_valid))"
   ]
  },
  {
   "cell_type": "markdown",
   "metadata": {},
   "source": [
    "<h3> Accuracy target accomplished. Final training and predictions</h3>\n",
    "We have reached 99% accuracy, so we will save this as the final model, train it on the full dataset, and make predictions"
   ]
  },
  {
   "cell_type": "code",
   "execution_count": 19,
   "metadata": {},
   "outputs": [
    {
     "name": "stdout",
     "output_type": "stream",
     "text": [
      "Epoch 1/16\n",
      "17500/17500 [==============================] - 33s 2ms/step - loss: 0.1479 - acc: 0.9404\n",
      "Epoch 2/16\n",
      "17500/17500 [==============================] - 32s 2ms/step - loss: 0.0738 - acc: 0.9731\n",
      "Epoch 3/16\n",
      "17500/17500 [==============================] - 33s 2ms/step - loss: 0.0555 - acc: 0.9801\n",
      "Epoch 4/16\n",
      "17500/17500 [==============================] - 32s 2ms/step - loss: 0.0445 - acc: 0.9834\n",
      "Epoch 5/16\n",
      "17500/17500 [==============================] - 32s 2ms/step - loss: 0.0358 - acc: 0.9872\n",
      "Epoch 6/16\n",
      "17500/17500 [==============================] - 32s 2ms/step - loss: 0.0291 - acc: 0.9903\n",
      "Epoch 7/16\n",
      "17500/17500 [==============================] - 32s 2ms/step - loss: 0.0247 - acc: 0.9905\n",
      "Epoch 8/16\n",
      "17500/17500 [==============================] - 32s 2ms/step - loss: 0.0235 - acc: 0.9913\n",
      "Epoch 9/16\n",
      "17500/17500 [==============================] - 32s 2ms/step - loss: 0.0211 - acc: 0.9927\n",
      "Epoch 10/16\n",
      "17500/17500 [==============================] - 32s 2ms/step - loss: 0.0201 - acc: 0.9929\n",
      "Epoch 11/16\n",
      "17500/17500 [==============================] - 32s 2ms/step - loss: 0.0163 - acc: 0.9939\n",
      "Epoch 12/16\n",
      "17500/17500 [==============================] - 32s 2ms/step - loss: 0.0138 - acc: 0.9951\n",
      "Epoch 13/16\n",
      "17500/17500 [==============================] - 31s 2ms/step - loss: 0.0139 - acc: 0.9951\n",
      "Epoch 14/16\n",
      "17500/17500 [==============================] - 31s 2ms/step - loss: 0.0127 - acc: 0.9956\n",
      "Epoch 15/16\n",
      "17500/17500 [==============================] - 31s 2ms/step - loss: 0.0128 - acc: 0.9957\n",
      "Epoch 16/16\n",
      "17500/17500 [==============================] - 31s 2ms/step - loss: 0.0110 - acc: 0.9959\n"
     ]
    }
   ],
   "source": [
    "final_model = build_model(num_layers = 3)\n",
    "\n",
    "final_model.compile(optimizer=RMSprop(lr=1e-4),\n",
    "              loss='binary_crossentropy',\n",
    "              metrics=['accuracy'])\n",
    "\n",
    "final_model.fit(X_train, Y_train, epochs=16, batch_size=32)\n",
    "\n",
    "final_model.save('final_model.h5')"
   ]
  },
  {
   "cell_type": "code",
   "execution_count": 22,
   "metadata": {},
   "outputs": [],
   "source": [
    "# create an output file with predictions\n",
    "pred = final_model.predict(X_test)\n",
    "\n",
    "\n",
    "df = pd.DataFrame({\n",
    "    'id': [f for f in testing_images],\n",
    "    'has_cactus': [int(x[0] > 0.5) for x in pred]\n",
    "})\n",
    "\n",
    "df.to_csv('predictions.csv', index=False)"
   ]
  },
  {
   "cell_type": "code",
   "execution_count": 83,
   "metadata": {},
   "outputs": [
    {
     "name": "stdout",
     "output_type": "stream",
     "text": [
      "_________________________________________________________________\n",
      "Layer (type)                 Output Shape              Param #   \n",
      "=================================================================\n",
      "conv2d_31 (Conv2D)           (None, 32, 32, 64)        1792      \n",
      "_________________________________________________________________\n",
      "batch_normalization_31 (Batc (None, 32, 32, 64)        256       \n",
      "_________________________________________________________________\n",
      "activation_31 (Activation)   (None, 32, 32, 64)        0         \n",
      "_________________________________________________________________\n",
      "max_pooling2d_31 (MaxPooling (None, 16, 16, 64)        0         \n",
      "_________________________________________________________________\n",
      "conv2d_32 (Conv2D)           (None, 16, 16, 64)        36928     \n",
      "_________________________________________________________________\n",
      "batch_normalization_32 (Batc (None, 16, 16, 64)        256       \n",
      "_________________________________________________________________\n",
      "activation_32 (Activation)   (None, 16, 16, 64)        0         \n",
      "_________________________________________________________________\n",
      "max_pooling2d_32 (MaxPooling (None, 8, 8, 64)          0         \n",
      "_________________________________________________________________\n",
      "conv2d_33 (Conv2D)           (None, 8, 8, 64)          36928     \n",
      "_________________________________________________________________\n",
      "batch_normalization_33 (Batc (None, 8, 8, 64)          256       \n",
      "_________________________________________________________________\n",
      "activation_33 (Activation)   (None, 8, 8, 64)          0         \n",
      "_________________________________________________________________\n",
      "max_pooling2d_33 (MaxPooling (None, 4, 4, 64)          0         \n",
      "_________________________________________________________________\n",
      "flatten_18 (Flatten)         (None, 1024)              0         \n",
      "_________________________________________________________________\n",
      "dropout_18 (Dropout)         (None, 1024)              0         \n",
      "_________________________________________________________________\n",
      "dense_35 (Dense)             (None, 64)                65600     \n",
      "_________________________________________________________________\n",
      "dense_36 (Dense)             (None, 1)                 65        \n",
      "=================================================================\n",
      "Total params: 142,081\n",
      "Trainable params: 141,697\n",
      "Non-trainable params: 384\n",
      "_________________________________________________________________\n"
     ]
    }
   ],
   "source": [
    "final_model.summary()"
   ]
  },
  {
   "cell_type": "code",
   "execution_count": null,
   "metadata": {
    "scrolled": true
   },
   "outputs": [],
   "source": []
  }
 ],
 "metadata": {
  "kernelspec": {
   "display_name": "capstone",
   "language": "python",
   "name": "capstone"
  },
  "language_info": {
   "codemirror_mode": {
    "name": "ipython",
    "version": 3
   },
   "file_extension": ".py",
   "mimetype": "text/x-python",
   "name": "python",
   "nbconvert_exporter": "python",
   "pygments_lexer": "ipython3",
   "version": "3.6.6"
  }
 },
 "nbformat": 4,
 "nbformat_minor": 2
}
